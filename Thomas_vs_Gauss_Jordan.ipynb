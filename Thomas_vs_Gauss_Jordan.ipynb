{
  "nbformat": 4,
  "nbformat_minor": 0,
  "metadata": {
    "colab": {
      "provenance": [],
      "authorship_tag": "ABX9TyPZ9xTVIULUWWUSVDiLIpBG",
      "include_colab_link": true
    },
    "kernelspec": {
      "name": "python3",
      "display_name": "Python 3"
    },
    "language_info": {
      "name": "python"
    }
  },
  "cells": [
    {
      "cell_type": "markdown",
      "metadata": {
        "id": "view-in-github",
        "colab_type": "text"
      },
      "source": [
        "<a href=\"https://colab.research.google.com/github/Kh-Harakeh/Thomas-vs-Gauss-Jordan/blob/main/Thomas_vs_Gauss_Jordan.ipynb\" target=\"_parent\"><img src=\"https://colab.research.google.com/assets/colab-badge.svg\" alt=\"Open In Colab\"/></a>"
      ]
    },
    {
      "cell_type": "code",
      "source": [
        "def thomas_algorithm(a, b, c, d):\n",
        "  \"\"\"\n",
        " Solves a tridiagonal system using the Thomas Algorithm.\n",
        " Inputs:\n",
        "    a: Sub-diagonal (length n-1)\n",
        "    b: Main diagonal (length n)\n",
        "    c: Super-diagonal (length n-1)\n",
        "    d: Right-hand side (length n)\n",
        " Outputs:\n",
        "    x: Solution vector (length n)\n",
        "  \"\"\"\n",
        "  n = len(d)\n",
        "  # Ensure the diagonals have compatible dimensions\n",
        "  if len(b) != n or len(a) != n- 1 or len(c) != n- 1:\n",
        "    raise ValueError(f\"Dimension␣mismatch:␣len(b)={len(b)},␣len(a)={len(a)},␣len(c)={len(c)},␣len(d)={n}\")\n",
        "  # Forward elimination\n",
        "  c_prime = np.zeros(n, dtype=float)\n",
        "  d_prime = np.zeros(n, dtype=float)\n",
        "  c_prime[0] = c[0] / b[0]\n",
        "  d_prime[0] = d[0] / b[0]\n",
        "  for i in range(1, n):\n",
        "    denominator = b[i]- a[i- 1] * c_prime[i- 1]\n",
        "    threshold = 1e-12 * max(abs(b[i]), abs(a[i- 1] *\n",
        "    c_prime[i- 1]), 1)\n",
        "    if abs(denominator) < threshold:\n",
        "      raise ValueError(\"Matrix␣is␣singular␣or␣nearly␣singular.\")\n",
        "      c_prime[i] = c[i] / denominator if i < n- 1 else 0\n",
        "      d_prime[i] = (d[i]- a[i- 1] * d_prime[i- 1]) / denominator\n",
        "  # Back substitution\n",
        "  x = np.zeros(n, dtype=float)\n",
        "  x[-1] = d_prime[-1]\n",
        "  for i in range(n- 2,-1,-1):\n",
        "    x[i] = d_prime[i]- c_prime[i] * x[i + 1]\n",
        "  return x"
      ],
      "metadata": {
        "id": "v4GPHfzPSLxd"
      },
      "execution_count": 7,
      "outputs": []
    },
    {
      "source": [
        "import numpy as np\n",
        "from scipy.sparse import csc_matrix\n",
        "from scipy.sparse.linalg import splu\n",
        "\n",
        "def gauss_jordan_sparse(A, b):\n",
        " \"\"\"\n",
        " Solves a linear system using an optimized Gauss-Jordan\n",
        " Method with sparse matrix techniques.\n",
        " Inputs:\n",
        "    A: Coefficient matrix (n x n)\n",
        "    b: Right-hand side vector (length n)\n",
        " Outputs:\n",
        "    x: Solution vector (length n)\n",
        " \"\"\"\n",
        " try: # Corrected indentation for try block\n",
        "  if not isinstance(A, csc_matrix):\n",
        "   A_sparse = csc_matrix(A)\n",
        "  else:\n",
        "   A_sparse = A\n",
        "   # Perform LU decomposition using sparse techniques\n",
        "   lu = splu(A_sparse)\n",
        "   # Solve the system\n",
        "   x = lu.solve(b)\n",
        "  return x # Corrected indentation for return statement\n",
        " except Exception as e:\n",
        "  raise ValueError(f\"Error during LU decomposition or solving: {e}\")"
      ],
      "cell_type": "code",
      "metadata": {
        "id": "9tt6VzTgR_kN"
      },
      "execution_count": 9,
      "outputs": []
    },
    {
      "cell_type": "code",
      "source": [],
      "metadata": {
        "id": "CI_lsxoXU401"
      },
      "execution_count": null,
      "outputs": []
    }
  ]
}