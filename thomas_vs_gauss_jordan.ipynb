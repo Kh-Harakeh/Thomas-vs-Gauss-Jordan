{
  "nbformat": 4,
  "nbformat_minor": 0,
  "metadata": {
    "colab": {
      "provenance": [],
      "authorship_tag": "ABX9TyPkzcIdeplIhKhyLAGtczDW",
      "include_colab_link": true
    },
    "kernelspec": {
      "name": "python3",
      "display_name": "Python 3"
    },
    "language_info": {
      "name": "python"
    }
  },
  "cells": [
    {
      "cell_type": "markdown",
      "metadata": {
        "id": "view-in-github",
        "colab_type": "text"
      },
      "source": [
        "<a href=\"https://colab.research.google.com/github/Kh-Harakeh/Thomas-vs-Gauss-Jordan/blob/main/thomas_vs_gauss_jordan.ipynb\" target=\"_parent\"><img src=\"https://colab.research.google.com/assets/colab-badge.svg\" alt=\"Open In Colab\"/></a>"
      ]
    },
    {
      "cell_type": "code",
      "source": [
        "import numpy as np\n",
        "\n",
        "def validate_dimensions(a, b, c, d, n):\n",
        "    \"\"\"\n",
        "    Validates the dimensions of the input arrays for the tridiagonal system.\n",
        "\n",
        "    Parameters:\n",
        "        a (array-like): Sub-diagonal (length n-1)\n",
        "        b (array-like): Main diagonal (length n)\n",
        "        c (array-like): Super-diagonal (length n-1)\n",
        "        d (array-like): Right-hand side (length n)\n",
        "        n (int): Expected length of the main diagonal.\n",
        "\n",
        "    Raises:\n",
        "        ValueError: If dimensions of input arrays are inconsistent.\n",
        "    \"\"\"\n",
        "    if len(b) != n or len(a) != n - 1 or len(c) != n - 1:\n",
        "        raise ValueError(f\"Dimension mismatch: len(b)={len(b)}, len(a)={len(a)}, len(c)={len(c)}, len(d)={n}\")\n",
        "\n",
        "def thomas_algorithm(a, b, c, d, precision_threshold=1e-12):\n",
        "    \"\"\"\n",
        "    Solves a tridiagonal system using the Thomas Algorithm.\n",
        "\n",
        "    Parameters:\n",
        "        a (array-like): Sub-diagonal (length n-1)\n",
        "        b (array-like): Main diagonal (length n)\n",
        "        c (array-like): Super-diagonal (length n-1)\n",
        "        d (array-like): Right-hand side (length n)\n",
        "        precision_threshold (float): Threshold for numerical precision checks.\n",
        "\n",
        "    Returns:\n",
        "        x (np.ndarray): Solution vector (length n)\n",
        "\n",
        "    Raises:\n",
        "        ValueError: If dimensions of input arrays are inconsistent.\n",
        "        ValueError: If the matrix is singular or nearly singular.\n",
        "    \"\"\"\n",
        "    n = len(d)\n",
        "\n",
        "    # Ensure the diagonals have compatible dimensions\n",
        "    validate_dimensions(a, b, c, d, n)\n",
        "\n",
        "    # Initialize arrays for forward elimination\n",
        "    c_prime = np.zeros(n, dtype=float)\n",
        "    d_prime = np.zeros(n, dtype=float)\n",
        "\n",
        "    # Forward elimination\n",
        "    c_prime[0] = c[0] / b[0]\n",
        "    d_prime[0] = d[0] / b[0]\n",
        "\n",
        "    for i in range(1, n):\n",
        "        denominator = b[i] - a[i - 1] * c_prime[i - 1]\n",
        "\n",
        "        # Stability check with threshold for nearly singular matrix\n",
        "        threshold = precision_threshold * max(abs(b[i]), abs(a[i - 1] * c_prime[i - 1]), 1)\n",
        "        if abs(denominator) < threshold:\n",
        "            raise ValueError(\"Matrix is singular or nearly singular.\")\n",
        "\n",
        "        c_prime[i] = c[i] / denominator if i < n - 1 else 0\n",
        "        d_prime[i] = (d[i] - a[i - 1] * d_prime[i - 1]) / denominator\n",
        "\n",
        "    # Back substitution\n",
        "    x = np.zeros(n, dtype=float)\n",
        "    x[-1] = d_prime[-1]\n",
        "\n",
        "    for i in range(n - 2, -1, -1):\n",
        "        x[i] = d_prime[i] - c_prime[i] * x[i + 1]\n",
        "\n",
        "    return x\n",
        "\n",
        "def generate_tridiagonal_system(n, a_range=(1, 10), b_range=(10, 20), c_range=(1, 10), d_range=(1, 100)):\n",
        "    \"\"\"\n",
        "    Generates a random tridiagonal system of equations.\n",
        "\n",
        "    Parameters:\n",
        "        n (int): Dimension of the system (n x n matrix).\n",
        "\n",
        "    Returns:\n",
        "        a (np.ndarray): Sub-diagonal (length n-1).\n",
        "        b (np.ndarray): Main diagonal (length n).\n",
        "        c (np.ndarray): Super-diagonal (length n-1).\n",
        "        d (np.ndarray): Right-hand side (length n).\n",
        "    \"\"\"\n",
        "    a = np.random.uniform(a_range[0], a_range[1], size=n-1)  # Sub-diagonal\n",
        "    b = np.random.uniform(b_range[0], b_range[1], size=n)   # Main diagonal (ensuring dominance)\n",
        "    c = np.random.uniform(c_range[0], c_range[1], size=n-1)  # Super-diagonal\n",
        "    d = np.random.uniform(d_range[0], d_range[1], size=n)   # Right-hand side\n",
        "    return a, b, c, d\n",
        "\n",
        "# Example usage for a high-dimensional tridiagonal system\n",
        "if __name__ == \"__main__\":\n",
        "    dimension = 1000  # Define the size of the matrix (e.g., 1000 for 1000x1000)\n",
        "    a, b, c, d = generate_tridiagonal_system(dimension)\n",
        "\n",
        "    # Solve the system\n",
        "    try:\n",
        "        solution = thomas_algorithm(a, b, c, d)\n",
        "        print(\"Solution for dimension {}: Success\".format(dimension))\n",
        "        print(\"First few elements of the solution:\", solution[:min(10, len(solution))])\n",
        "    except ValueError as e:\n",
        "        print(\"Error:\", e)"
      ],
      "metadata": {
        "id": "v4GPHfzPSLxd",
        "outputId": "c2634409-2027-4fa9-eb35-553691653f39",
        "colab": {
          "base_uri": "https://localhost:8080/"
        }
      },
      "execution_count": null,
      "outputs": [
        {
          "output_type": "stream",
          "name": "stdout",
          "text": [
            "Solution for dimension 1000: Success\n",
            "First few elements of the solution: [  9.86326982  -3.86133245   2.25721665   2.51355565  -1.78668179\n",
            "  24.58905553 -18.40385401  12.37206678   1.14320314  -4.64762502]\n"
          ]
        }
      ]
    },
    {
      "source": [
        "import numpy as np\n",
        "from scipy.sparse import csc_matrix\n",
        "from scipy.sparse.linalg import splu\n",
        "\n",
        "def gauss_jordan_sparse(A, b):\n",
        " \"\"\"\n",
        " Solves a linear system using an optimized Gauss-Jordan\n",
        " Method with sparse matrix techniques.\n",
        " Inputs:\n",
        "    A: Coefficient matrix (n x n)\n",
        "    b: Right-hand side vector (length n)\n",
        " Outputs:\n",
        "    x: Solution vector (length n)\n",
        " \"\"\"\n",
        " try: # Corrected indentation for try block\n",
        "  if not isinstance(A, csc_matrix):\n",
        "   A_sparse = csc_matrix(A)\n",
        "  else:\n",
        "   A_sparse = A\n",
        "   # Perform LU decomposition using sparse techniques\n",
        "   lu = splu(A_sparse)\n",
        "   # Solve the system\n",
        "   x = lu.solve(b)\n",
        "  return x # Corrected indentation for return statement\n",
        " except Exception as e:\n",
        "  raise ValueError(f\"Error during LU decomposition or solving: {e}\")"
      ],
      "cell_type": "code",
      "metadata": {
        "id": "9tt6VzTgR_kN"
      },
      "execution_count": null,
      "outputs": []
    }
  ]
}